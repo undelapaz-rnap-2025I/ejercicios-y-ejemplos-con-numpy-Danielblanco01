{
  "cells": [
    {
      "cell_type": "markdown",
      "metadata": {
        "id": "z9dathS_lkMu"
      },
      "source": [
        "# Learning and practicing NumPy with examples and exercises"
      ]
    },
    {
      "cell_type": "markdown",
      "metadata": {},
      "source": [
        "# Cuaderno Interactivo de Ejemplos en NumPy y Python\n",
        "\n",
        "En este cuaderno se abordarán varios ejemplos prácticos de **NumPy** y **Python**, explicando cómo indexar y hacer operaciones con arrays, tensores y matrices, además de algunos ejemplos de funciones y clases en Python.\n",
        "\n",
        "## Propósito\n",
        "\n",
        "El propósito de este cuaderno es ayudar a comprender los conceptos clave de la manipulación de datos con **NumPy** (como la indexación, el slicing, las operaciones matriciales y de tensores) y cómo definir y utilizar funciones y clases en **Python**. Al final, también se demostrará cómo aplicar un algoritmo de optimización por **descenso de gradiente** en un conjunto de datos.\n"
      ]
    },
    {
      "cell_type": "markdown",
      "metadata": {},
      "source": [
        "## 1. Ejemplos: Indexación en Arrays de NumPy\n",
        "\n",
        "### 1.1 Indexación Básica\n",
        "\n",
        "En este ejemplo, mostraremos cómo indexar un array en **NumPy** para acceder a elementos específicos.\n"
      ]
    },
    {
      "cell_type": "code",
      "execution_count": 12,
      "metadata": {},
      "outputs": [
        {
          "name": "stdout",
          "output_type": "stream",
          "text": [
            "30\n"
          ]
        }
      ],
      "source": [
        "\n",
        "import numpy as np\n",
        "\n",
        "arr = np.array([10, 20, 30, 40, 50])\n",
        "print(arr[2])  # Output esperado: 30\n"
      ]
    },
    {
      "cell_type": "markdown",
      "metadata": {},
      "source": [
        "### 1.2 Slicing de Arrays en NumPy\n",
        "\n"
      ]
    },
    {
      "cell_type": "markdown",
      "metadata": {},
      "source": [
        "Aquí mostramos cómo usar el slicing para obtener una subsección de un array en **NumPy**."
      ]
    },
    {
      "cell_type": "code",
      "execution_count": 11,
      "metadata": {},
      "outputs": [
        {
          "name": "stdout",
          "output_type": "stream",
          "text": [
            "[20 30 40]\n"
          ]
        }
      ],
      "source": [
        "arr = np.array([10, 20, 30, 40, 50])\n",
        "print(arr[1:4])  # Output esperado: [20 30 40]"
      ]
    },
    {
      "cell_type": "markdown",
      "metadata": {},
      "source": [
        "### 1.3 Indexación en Arrays 2D\n",
        "\n",
        "En este ejemplo, accedemos a un elemento específico en una matriz 2D."
      ]
    },
    {
      "cell_type": "code",
      "execution_count": 13,
      "metadata": {},
      "outputs": [
        {
          "name": "stdout",
          "output_type": "stream",
          "text": [
            "6\n"
          ]
        }
      ],
      "source": [
        "arr = np.array([[1, 2, 3], [4, 5, 6], [7, 8, 9]])\n",
        "print(arr[1, 2])  # Output esperado: 6"
      ]
    },
    {
      "cell_type": "markdown",
      "metadata": {},
      "source": [
        "### 1.4 Slicing en Arrays 2D\n",
        "\n",
        "Aquí se muestra cómo realizar slicing en un array 2D para obtener una submatriz.\n"
      ]
    },
    {
      "cell_type": "code",
      "execution_count": 14,
      "metadata": {},
      "outputs": [
        {
          "name": "stdout",
          "output_type": "stream",
          "text": [
            "[[2 3]\n",
            " [5 6]]\n"
          ]
        }
      ],
      "source": [
        "arr = np.array([[1, 2, 3], [4, 5, 6], [7, 8, 9]])\n",
        "print(arr[:2, 1:])  # Output esperado: [[2 3] [5 6]]"
      ]
    },
    {
      "cell_type": "markdown",
      "metadata": {},
      "source": [
        "### 1.5 Indexación en Tensores 3D\n",
        "\n",
        "En este ejemplo, trabajamos con un tensor 3D y mostramos cómo acceder a un elemento y hacer slicing."
      ]
    },
    {
      "cell_type": "code",
      "execution_count": 16,
      "metadata": {},
      "outputs": [
        {
          "name": "stdout",
          "output_type": "stream",
          "text": [
            "9\n",
            "[[ 7  8  9]\n",
            " [10 11 12]]\n"
          ]
        }
      ],
      "source": [
        "tensor = np.array([[[1, 2, 3], [4, 5, 6]], \n",
        "                   [[7, 8, 9], [10, 11, 12]], \n",
        "                   [[13, 14, 15], [16, 17, 18]]])\n",
        "\n",
        "# Acceso a un elemento específico\n",
        "print(tensor[1, 0, 2])  # Output esperado: 9\n",
        "\n",
        "# Acceso a una \"corte\" completa (submatriz 2D)\n",
        "print(tensor[1])  # Output esperado: [[ 7 8 9] [10 11 12]]"
      ]
    },
    {
      "cell_type": "markdown",
      "metadata": {},
      "source": [
        "### 1.6 Optimización por Descenso de Gradiente\n",
        "Este ejemplo implementa el algoritmo de **descenso de gradiente** para optimizar una regresión lineal.\n"
      ]
    },
    {
      "cell_type": "code",
      "execution_count": 15,
      "metadata": {},
      "outputs": [
        {
          "name": "stdout",
          "output_type": "stream",
          "text": [
            "Final theta: [[4.22215108]\n",
            " [2.96846751]]\n"
          ]
        }
      ],
      "source": [
        "import numpy as np\n",
        "\n",
        "# Generar datos de ejemplo\n",
        "np.random.seed(0)\n",
        "X = 2 * np.random.rand(100, 1)\n",
        "y = 4 + 3 * X + np.random.randn(100, 1)\n",
        "\n",
        "# Añadir término de sesgo a X\n",
        "X_b = np.c_[np.ones((100, 1)), X]\n",
        "\n",
        "# Hiperparámetros\n",
        "learning_rate = 0.1\n",
        "n_iterations = 1000\n",
        "\n",
        "# Inicialización de parámetros\n",
        "theta = np.random.randn(2, 1)\n",
        "\n",
        "# Descenso de Gradiente\n",
        "for iteration in range(n_iterations):\n",
        "    gradients = 2 / 100 * X_b.T.dot(X_b.dot(theta) - y)\n",
        "    theta = theta - learning_rate * gradients\n",
        "\n",
        "print(\"Final theta:\", theta)"
      ]
    },
    {
      "cell_type": "markdown",
      "metadata": {},
      "source": [
        "## 3 Exercises\n",
        "\n",
        "### 3.1 Indexing Arrays in NumPy"
      ]
    },
    {
      "cell_type": "markdown",
      "metadata": {},
      "source": [
        "**1. Dado el array `arr = np.array([3, 7, 1, 9, 5])`, realizar las siguientes operaciones:**\n",
        "\n",
        "- **a)** Recuperar el tercer elemento del array.\n",
        "- **b)** Obtener una porción (slice) del array desde el índice 1 hasta el índice 3 (sin incluir el 3).\n",
        "- **c)** Cambiar el valor del cuarto elemento (índice 3) a 12.\n"
      ]
    },
    {
      "cell_type": "code",
      "execution_count": 5,
      "metadata": {},
      "outputs": [
        {
          "name": "stdout",
          "output_type": "stream",
          "text": [
            "Third element: 1\n",
            "Sliced array (index 1 to 3): [7 1 9]\n",
            "Array after changing the fourth element: [ 3  7  1 12  5]\n"
          ]
        }
      ],
      "source": [
        "import numpy as np\n",
        "\n",
        "# Definimos el array de numpy\n",
        "arr = np.array([3, 7, 1, 9, 5])\n",
        "\n",
        "# a) Recuperar el tercer elemento de la matriz\n",
        "third_element = arr[2]\n",
        "print(\"Third element:\", third_element)\n",
        "\n",
        "# b) Corta la matriz para obtener los elementos del índice 1 al índice 3\n",
        "sliced_array = arr[1:4]\n",
        "print(\"Sliced array (index 1 to 3):\", sliced_array)\n",
        "\n",
        "# c) Cambia el valor del cuarto elemento a 12\n",
        "arr[3] = 12\n",
        "print(\"Array after changing the fourth element:\", arr)"
      ]
    },
    {
      "cell_type": "markdown",
      "metadata": {},
      "source": [
        "**2. Crear una matriz 2D con los siguientes valores:**\n",
        "\n",
        "\n",
        "- **a)** Recuperar el elemento en la segunda fila y tercera columna.\n",
        "- **b)** Obtener una submatriz que contenga las dos primeras filas y todas las columnas.\n"
      ]
    },
    {
      "cell_type": "code",
      "execution_count": 6,
      "metadata": {},
      "outputs": [
        {
          "name": "stdout",
          "output_type": "stream",
          "text": [
            "Elemento en la fila 2, columna 3: 6\n",
            "Submatriz (primeras dos filas): [[1 2 3]\n",
            " [4 5 6]]\n"
          ]
        }
      ],
      "source": [
        "# Definimos la matriz\n",
        "matrix = np.array([\n",
        "            [1, 2, 3],\n",
        "            [4, 5, 6],  \n",
        "            [7, 8, 9]\n",
        "        ])\n",
        "\n",
        "# a) Recuperamos el elemento en la fila 2, columna 3\n",
        "elemento = matrix[1, 2]\n",
        "print(\"Elemento en la fila 2, columna 3:\", elemento)\n",
        "\n",
        "# b) Corta la matriz para obtener la submatriz formada por las dos primeras filas y todas las columnas.\n",
        "submatrix = matrix[:2, :]\n",
        "print(\"Submatriz (primeras dos filas):\", submatrix)"
      ]
    },
    {
      "cell_type": "markdown",
      "metadata": {},
      "source": [
        "### 3.2 Indexing and Slicing Higher-Dimensional Tensors\n"
      ]
    },
    {
      "cell_type": "markdown",
      "metadata": {},
      "source": [
        "Considerar el siguiente **tensor 3D** que representa una pila de matrices:\n",
        "\n"
      ]
    },
    {
      "cell_type": "markdown",
      "metadata": {},
      "source": [
        "$$\n",
        "\\text{tensor} =\n",
        "\\begin{bmatrix}\n",
        "\\begin{bmatrix}\n",
        "1 & 2 & 3 & 4 \\\\\n",
        "5 & 6 & 7 & 8 \\\\\n",
        "9 & 10 & 11 & 12\n",
        "\\end{bmatrix} \\\\ \\\\\n",
        "\\begin{bmatrix}\n",
        "13 & 14 & 15 & 16 \\\\\n",
        "17 & 18 & 19 & 20 \\\\\n",
        "21 & 22 & 23 & 24\n",
        "\\end{bmatrix} \\\\ \\\\\n",
        "\\begin{bmatrix}\n",
        "25 & 26 & 27 & 28 \\\\\n",
        "29 & 30 & 31 & 32 \\\\\n",
        "33 & 34 & 35 & 36\n",
        "\\end{bmatrix}\n",
        "\\end{bmatrix}\n",
        "$$"
      ]
    },
    {
      "cell_type": "markdown",
      "metadata": {},
      "source": [
        "Realizar las siguientes operaciones de indexación y slicing:\n",
        "\n",
        "1. Recuperar el elemento en la posición **(1, 0, 2)** dentro del tensor.\n",
        "2. Obtener el **sub-tensor de 3×4** que corresponde a la segunda \"matriz\" (slice) a lo largo de la primera dimensión.\n",
        "3. Obtener el **sub-tensor de 2×4** que corresponde a la **última fila de las dos últimas \"matrices\"**.\n",
        "4. Recuperar el elemento en la posición **(2, 1, 3)** dentro del tensor.\n",
        "5. Obtener el **sub-tensor de 2×4** que corresponde a la **primera fila de las dos últimas \"matrices\"**.\n"
      ]
    },
    {
      "cell_type": "code",
      "execution_count": 7,
      "metadata": {},
      "outputs": [
        {
          "name": "stdout",
          "output_type": "stream",
          "text": [
            "Elemento en la posición (1, 0, 2): 15\n",
            "Sub-tensor 3×4 (segunda matriz):\n",
            " [[13 14 15 16]\n",
            " [17 18 19 20]\n",
            " [21 22 23 24]]\n",
            "Sub-tensor 2×4 (última fila de las dos últimas matrices):\n",
            " [[21 22 23 24]\n",
            " [33 34 35 36]]\n",
            "Elemento en la posición (2, 1, 3): 32\n",
            "Sub-tensor 2×4 (primera fila de las dos últimas matrices):\n",
            " [[13 14 15 16]\n",
            " [25 26 27 28]]\n"
          ]
        }
      ],
      "source": [
        "# Definimos el tensor 3D\n",
        "tensor = np.array([\n",
        "    [\n",
        "        [1, 2, 3, 4],\n",
        "        [5, 6, 7, 8],\n",
        "        [9, 10, 11, 12]\n",
        "    ],\n",
        "    [\n",
        "        [13, 14, 15, 16],\n",
        "        [17, 18, 19, 20],\n",
        "        [21, 22, 23, 24]\n",
        "    ],\n",
        "    [\n",
        "        [25, 26, 27, 28],\n",
        "        [29, 30, 31, 32],\n",
        "        [33, 34, 35, 36]\n",
        "    ]\n",
        "])\n",
        "\n",
        "# 1. Recuperar el elemento en la posición (1, 0, 2)\n",
        "element_1 = tensor[1, 0, 2]\n",
        "print(\"Elemento en la posición (1, 0, 2):\", element_1)\n",
        "\n",
        "# 2. Cortar el tensor para obtener el sub-tensor 3×4 que corresponde a la segunda \"matriz\" (corte) a lo largo de la primera dimensión\n",
        "sub_tensor = tensor[1, :, :]\n",
        "print(\"Sub-tensor 3×4 (segunda matriz):\\n\", sub_tensor)\n",
        "\n",
        "# 3. Cortar el tensor para obtener el sub-tensor 2×4 que corresponde a la última fila de las dos últimas \"matrices.\"\n",
        "last_row_last_two_matrices = tensor[1:, 2, :]\n",
        "print(\"Sub-tensor 2×4 (última fila de las dos últimas matrices):\\n\", last_row_last_two_matrices)\n",
        "\n",
        "# 4. Recuperar el elemento en la posición (2, 1, 3)\n",
        "element_2 = tensor[2, 1, 3]\n",
        "print(\"Elemento en la posición (2, 1, 3):\", element_2)\n",
        "\n",
        "# 5. Cortar el tensor para obtener el sub-tensor 2×4 que corresponde a la primera fila de las dos últimas \"matrices.\"\n",
        "first_row_last_two_matrices = tensor[1:, 0, :]\n",
        "print(\"Sub-tensor 2×4 (primera fila de las dos últimas matrices):\\n\", first_row_last_two_matrices)"
      ]
    },
    {
      "cell_type": "markdown",
      "metadata": {},
      "source": [
        "### 3.3 Defining Functions in Python\n"
      ]
    },
    {
      "cell_type": "markdown",
      "metadata": {},
      "source": [
        "**1. Escribir una función en Python llamada `calculate_average` que reciba una lista de números como entrada y retorne el promedio de esos números.**\n"
      ]
    },
    {
      "cell_type": "code",
      "execution_count": 8,
      "metadata": {},
      "outputs": [
        {
          "name": "stdout",
          "output_type": "stream",
          "text": [
            "18.0\n"
          ]
        }
      ],
      "source": [
        "def calculate_average(numbers):\n",
        "    if not numbers:  # Evita división por cero si la lista está vacía\n",
        "        return 0\n",
        "    return sum(numbers) / len(numbers)\n",
        "\n",
        "# Ejemplo de uso:\n",
        "nums = [4, 8, 15, 16, 23, 42]\n",
        "print(calculate_average(nums))  # Resultado: 18.0"
      ]
    },
    {
      "cell_type": "markdown",
      "metadata": {},
      "source": [
        "**2. Definir una función llamada `find_power` que calcule el resultado de un número elevado a un exponente dado. La función debe tener dos parámetros: `base` (el número base) y `exponent` (el valor del exponente, cuyo valor por defecto debe ser 2).**\n"
      ]
    },
    {
      "cell_type": "code",
      "execution_count": 9,
      "metadata": {},
      "outputs": [
        {
          "name": "stdout",
          "output_type": "stream",
          "text": [
            "4\n"
          ]
        }
      ],
      "source": [
        "def find_power(base, exponente):\n",
        "    return base ** exponente\n",
        "\n",
        "b, e = 2, 2\n",
        "resultado = find_power(b, e)  # Resultado: 4\n",
        "\n",
        "print(resultado)"
      ]
    },
    {
      "cell_type": "markdown",
      "metadata": {},
      "source": [
        "### 3.4 Implementing Gradient Descent Optimization\n"
      ]
    },
    {
      "cell_type": "markdown",
      "metadata": {},
      "source": [
        "**1. Considera el siguiente problema de regresión lineal, donde se tienen los siguientes puntos de datos:**\n",
        "- $X = [1, 2, 3, 4, 5]$\n",
        "- $y = [3, 6, 8, 11, 13]$\n",
        "\n",
        "**Implementa un programa en Python usando NumPy para realizar la optimización por gradiente descendente y encontrar los parámetros $\\theta_0$ y $\\theta_1$ para el modelo de regresión lineal $h_\\theta(x) = \\theta_0 + \\theta_1 x$. Usa una tasa de aprendizaje de 0.01 y realiza 1000 iteraciones.**"
      ]
    },
    {
      "cell_type": "code",
      "execution_count": 10,
      "metadata": {},
      "outputs": [
        {
          "name": "stdout",
          "output_type": "stream",
          "text": [
            "Valores finales de theta:\n",
            "θ0 = 0.6987, θ1 = 2.5004\n"
          ]
        },
        {
          "data": {
            "image/png": "[encoded data removed]",
            "text/plain": [
              "<Figure size 640x480 with 1 Axes>"
            ]
          },
          "metadata": {},
          "output_type": "display_data"
        }
      ],
      "source": [
        "import numpy as np\n",
        "import matplotlib.pyplot as plt\n",
        "\n",
        "# Datos\n",
        "X_data = np.array([1, 2, 3, 4, 5])\n",
        "y_data = np.array([3, 6, 8, 11, 13])\n",
        "\n",
        "# Parámetros\n",
        "alpha = 0.01\n",
        "iterations = 1000\n",
        "\n",
        "def prepare_data(X):\n",
        "    \"\"\"Prepara la matriz X agregando una columna de unos.\"\"\"\n",
        "    m = len(X)\n",
        "    return np.hstack([np.ones((m, 1)), X.reshape(m, 1)])\n",
        "\n",
        "def compute_cost(X, y, theta):\n",
        "    \"\"\"Calcula el error cuadrático medio.\"\"\"\n",
        "    m = len(y)\n",
        "    h = X @ theta\n",
        "    error = h - y.reshape(m, 1)\n",
        "    cost = (1 / (2 * m)) * np.sum(error ** 2)\n",
        "    return cost\n",
        "\n",
        "def gradient_descent(X, y, theta, alpha, iterations):\n",
        "    \"\"\"Ejecuta el gradiente descendente y almacena los valores de theta.\"\"\"\n",
        "    m = len(y)\n",
        "    theta_history = []\n",
        "    \n",
        "    for _ in range(iterations):\n",
        "        h = X @ theta\n",
        "        error = h - y.reshape(m, 1)\n",
        "        gradient = (X.T @ error) / m\n",
        "        theta = theta - alpha * gradient\n",
        "        \n",
        "        theta_history.append(theta.flatten().copy())\n",
        "    \n",
        "    return theta, np.array(theta_history)\n",
        "\n",
        "def plot_theta_progress(theta_history):\n",
        "    \"\"\"Grafica el progreso de los parámetros theta0 y theta1.\"\"\"\n",
        "    plt.plot(theta_history[:, 0], label=r'$\\theta_0$')\n",
        "    plt.plot(theta_history[:, 1], label=r'$\\theta_1$')\n",
        "    plt.xlabel('Iteración')\n",
        "    plt.ylabel('Valor de los parámetros')\n",
        "    plt.title('Progreso de los parámetros durante el gradiente descendente')\n",
        "    plt.legend()\n",
        "    plt.grid(True)\n",
        "    plt.show()\n",
        "\n",
        "def main():\n",
        "    X = prepare_data(X_data)\n",
        "    y = y_data\n",
        "    theta = np.zeros((2, 1))\n",
        "\n",
        "    final_theta, theta_history = gradient_descent(X, y, theta, alpha, iterations)\n",
        "    \n",
        "    print(\"Valores finales de theta:\")\n",
        "    print(f\"θ0 = {final_theta[0, 0]:.4f}, θ1 = {final_theta[1, 0]:.4f}\")\n",
        "    \n",
        "    plot_theta_progress(theta_history)\n",
        "\n",
        "if __name__ == \"__main__\":\n",
        "    main()\n"
      ]
    },
    {
      "cell_type": "markdown",
      "metadata": {},
      "source": [
        "**3. Explica con tus propias palabras el propósito de la tasa de aprendizaje en la optimización por gradiente descendente.**\n",
        "\n",
        "La tasa de aprendizaje tiene el proposito de controlar la velocidad o el tamaño de los pasos que da el algoritmo de gradiente descendente al actualizar los valores de los parámetros. Esta determina qué tan rápido el algoritmo aprende y se aproxima a los valores óptimos, moviéndose en la dirección del gradiente para minimizar la función de costo."
      ]
    }
  ],
  "metadata": {
    "colab": {
      "provenance": []
    },
    "kernelspec": {
      "display_name": "redes310",
      "language": "python",
      "name": "python3"
    },
    "language_info": {
      "codemirror_mode": {
        "name": "ipython",
        "version": 3
      },
      "file_extension": ".py",
      "mimetype": "text/x-python",
      "name": "python",
      "nbconvert_exporter": "python",
      "pygments_lexer": "ipython3",
      "version": "3.10.16"
    }
  },
  "nbformat": 4,
  "nbformat_minor": 0
}
